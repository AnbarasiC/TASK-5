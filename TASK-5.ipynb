{
 "cells": [
  {
   "cell_type": "code",
   "execution_count": 1,
   "id": "e05daa5f",
   "metadata": {},
   "outputs": [
    {
     "name": "stdout",
     "output_type": "stream",
     "text": [
      "Total number of vowels: 12\n",
      "Count of 'A': 1\n",
      "Count of 'E': 5\n",
      "Count of 'I': 4\n",
      "Count of 'O': 1\n",
      "Count of 'U': 1\n"
     ]
    }
   ],
   "source": [
    "# 1. Write a Python program to calculate the total number of Vowels and Count of each individual vowel A, E, I, O, U in the string \"Guvi Geeks Network Private Limited\"?\n",
    "\n",
    "# Input string\n",
    "input_string = \"Guvi Geeks Network Private Limited\"\n",
    "\n",
    "# Convert the input string to lowercase to handle both uppercase and lowercase vowels\n",
    "input_string = input_string.lower()\n",
    "\n",
    "# Initialize counters for each vowel\n",
    "count_a = 0\n",
    "count_e = 0\n",
    "count_i = 0\n",
    "count_o = 0\n",
    "count_u = 0\n",
    "\n",
    "# Iterate through each character in the string\n",
    "for char in input_string:\n",
    "    if char == 'a':\n",
    "        count_a += 1\n",
    "    elif char == 'e':\n",
    "        count_e += 1\n",
    "    elif char == 'i':\n",
    "        count_i += 1\n",
    "    elif char == 'o':\n",
    "        count_o += 1\n",
    "    elif char == 'u':\n",
    "        count_u += 1\n",
    "\n",
    "# Calculate the total number of vowels\n",
    "total_vowels = count_a + count_e + count_i + count_o + count_u\n",
    "\n",
    "# Print the results\n",
    "print(\"Total number of vowels:\", total_vowels)\n",
    "print(\"Count of 'A':\", count_a)\n",
    "print(\"Count of 'E':\", count_e)\n",
    "print(\"Count of 'I':\", count_i)\n",
    "print(\"Count of 'O':\", count_o)\n",
    "print(\"Count of 'U':\", count_u)\n"
   ]
  },
  {
   "cell_type": "code",
   "execution_count": 2,
   "id": "bdafde61",
   "metadata": {},
   "outputs": [
    {
     "name": "stdout",
     "output_type": "stream",
     "text": [
      "                   1 \n",
      "                  1 2 1 \n",
      "                 1 2 3 2 1 \n",
      "                1 2 3 4 3 2 1 \n",
      "               1 2 3 4 5 4 3 2 1 \n",
      "              1 2 3 4 5 6 5 4 3 2 1 \n",
      "             1 2 3 4 5 6 7 6 5 4 3 2 1 \n",
      "            1 2 3 4 5 6 7 8 7 6 5 4 3 2 1 \n",
      "           1 2 3 4 5 6 7 8 9 8 7 6 5 4 3 2 1 \n",
      "          1 2 3 4 5 6 7 8 9 10 9 8 7 6 5 4 3 2 1 \n",
      "         1 2 3 4 5 6 7 8 9 10 11 10 9 8 7 6 5 4 3 2 1 \n",
      "        1 2 3 4 5 6 7 8 9 10 11 12 11 10 9 8 7 6 5 4 3 2 1 \n",
      "       1 2 3 4 5 6 7 8 9 10 11 12 13 12 11 10 9 8 7 6 5 4 3 2 1 \n",
      "      1 2 3 4 5 6 7 8 9 10 11 12 13 14 13 12 11 10 9 8 7 6 5 4 3 2 1 \n",
      "     1 2 3 4 5 6 7 8 9 10 11 12 13 14 15 14 13 12 11 10 9 8 7 6 5 4 3 2 1 \n",
      "    1 2 3 4 5 6 7 8 9 10 11 12 13 14 15 16 15 14 13 12 11 10 9 8 7 6 5 4 3 2 1 \n",
      "   1 2 3 4 5 6 7 8 9 10 11 12 13 14 15 16 17 16 15 14 13 12 11 10 9 8 7 6 5 4 3 2 1 \n",
      "  1 2 3 4 5 6 7 8 9 10 11 12 13 14 15 16 17 18 17 16 15 14 13 12 11 10 9 8 7 6 5 4 3 2 1 \n",
      " 1 2 3 4 5 6 7 8 9 10 11 12 13 14 15 16 17 18 19 18 17 16 15 14 13 12 11 10 9 8 7 6 5 4 3 2 1 \n",
      "1 2 3 4 5 6 7 8 9 10 11 12 13 14 15 16 17 18 19 20 19 18 17 16 15 14 13 12 11 10 9 8 7 6 5 4 3 2 1 \n"
     ]
    }
   ],
   "source": [
    "# 2. Create a Pyramid of Numbers from 1 to 20 using For loop?\n",
    "\n",
    "# Set the maximum number for the pyramid\n",
    "max_num = 20\n",
    "\n",
    "# Iterate through the rows\n",
    "for i in range(1, max_num+1):\n",
    "    # Print spaces to center-align the pyramid\n",
    "    print(\" \" * (max_num - i), end=\"\")\n",
    "\n",
    "    # Print numbers in increasing order\n",
    "    for j in range(1, i + 1):\n",
    "        print(j, end=\" \")\n",
    "\n",
    "    # Print numbers in decreasing order\n",
    "    for j in range(i - 1, 0, -1):\n",
    "        print(j, end=\" \")\n",
    "\n",
    "    # Move to the next line for the next row\n",
    "    print()\n"
   ]
  },
  {
   "cell_type": "code",
   "execution_count": 3,
   "id": "bc923870",
   "metadata": {},
   "outputs": [
    {
     "name": "stdout",
     "output_type": "stream",
     "text": [
      "Gv Gks Ntwrk Prvt Lmtd\n"
     ]
    }
   ],
   "source": [
    "# 3. Write a function that takes a string and returns a new string with all the vowels removed.\n",
    "\n",
    "def remove_vowels(input_string):\n",
    "    vowels = \"aeiouAEIOU\"  # Define a string containing all vowels, both lowercase and uppercase\n",
    "    result_string = \"\"  # Initialize an empty string to store the result\n",
    "\n",
    "    # Iterate through each character in the input string\n",
    "    for char in input_string:\n",
    "        # Check if the character is not a vowel and add it to the result_string\n",
    "        if char not in vowels:\n",
    "            result_string += char\n",
    "\n",
    "    return result_string  # Return the string with all the vowels removed\n",
    "\n",
    "\n",
    "input_string = \"Guvi Geeks Network Private Limited\"\n",
    "result_string = remove_vowels(input_string)\n",
    "print(result_string)"
   ]
  },
  {
   "cell_type": "code",
   "execution_count": 4,
   "id": "f97ebb28",
   "metadata": {},
   "outputs": [
    {
     "name": "stdout",
     "output_type": "stream",
     "text": [
      "The number of unique characters is: 18\n"
     ]
    }
   ],
   "source": [
    "# 4. Write a function that takes a string and returns the number of unique characters in it.\n",
    "\n",
    "def count_unique_characters(input_string):\n",
    "    unique_chars = set(input_string)  # Convert the string to a set to get unique characters\n",
    "    return len(unique_chars)  # Return the number of unique characters\n",
    "\n",
    "input_string = \"Guvi Geeks Network Private Limited\"\n",
    "unique_count = count_unique_characters(input_string)\n",
    "print(f\"The number of unique characters is: {unique_count}\")"
   ]
  },
  {
   "cell_type": "code",
   "execution_count": 5,
   "id": "ac4a8f14",
   "metadata": {},
   "outputs": [
    {
     "name": "stdout",
     "output_type": "stream",
     "text": [
      "The string 'Radar' is a palindrome.\n"
     ]
    }
   ],
   "source": [
    "# 5. Write a function that takes a string and returns True if it is a palindrome, False otherwise.\n",
    "\n",
    "def is_palindrome(input_string):\n",
    "    # Convert the string to lowercase and remove spaces\n",
    "    processed_string = input_string.lower().replace(\" \", \"\")\n",
    "    # Check if the processed string is equal to its reverse\n",
    "    return processed_string == processed_string[::-1]\n",
    "\n",
    "input_string = \"Radar\"\n",
    "result = is_palindrome(input_string)\n",
    "if result:\n",
    "    print(f\"The string '{input_string}' is a palindrome.\")\n",
    "else:\n",
    "    print(f\"The string '{input_string}' is not a palindrome.\")\n"
   ]
  },
  {
   "cell_type": "code",
   "execution_count": 6,
   "id": "8af0072a",
   "metadata": {},
   "outputs": [
    {
     "name": "stdout",
     "output_type": "stream",
     "text": [
      "Longest common substring between two strings Administration and Institutions is: tion\n"
     ]
    }
   ],
   "source": [
    "#6. Write a function that takes two strings and returns the longest common substring between them.\n",
    "\n",
    "def longest_common_substring(str1, str2):\n",
    "    m = len(str1)\n",
    "    n = len(str2)\n",
    "\n",
    "    # Create a table to store lengths of the longest common suffixes of substrings\n",
    "    # Initialize a table with zeros\n",
    "    table = [[0] * (n + 1) for _ in range(m + 1)]\n",
    "\n",
    "    # Variables to store the length of the longest common substring and its ending position\n",
    "    max_length = 0\n",
    "    end_position = 0\n",
    "\n",
    "    # Fill the table and update the variables accordingly\n",
    "    for i in range(1, m + 1):\n",
    "        for j in range(1, n + 1):\n",
    "            if str1[i - 1] == str2[j - 1]:\n",
    "                table[i][j] = table[i - 1][j - 1] + 1\n",
    "                if table[i][j] > max_length:\n",
    "                    max_length = table[i][j]\n",
    "                    end_position = i\n",
    "            else:\n",
    "                table[i][j] = 0\n",
    "\n",
    "    # Extract the longest common substring from the end position and length\n",
    "    longest_common_substring = str1[end_position - max_length: end_position]\n",
    "\n",
    "    return longest_common_substring\n",
    "\n",
    "str1 = \"Administration\"\n",
    "str2 = \"Institutions\"\n",
    "result = longest_common_substring(str1, str2)\n",
    "print(\"Longest common substring between two strings\", str1, \"and\", str2, \"is:\", result)"
   ]
  },
  {
   "cell_type": "code",
   "execution_count": 7,
   "id": "bbd94923",
   "metadata": {},
   "outputs": [
    {
     "name": "stdout",
     "output_type": "stream",
     "text": [
      "The most frequent character in the string is 'a'\n"
     ]
    }
   ],
   "source": [
    "#7. Write a function that takes a string and returns the most frequent character in it.\n",
    "\n",
    "def most_frequent_char(input_string):\n",
    "    char_freq = {}\n",
    "    for char in input_string:\n",
    "        if char in char_freq:\n",
    "            char_freq[char] += 1\n",
    "        else:\n",
    "            char_freq[char] = 1\n",
    "\n",
    "    max_freq = 0\n",
    "    most_frequent_char = None\n",
    "    for char, freq in char_freq.items():\n",
    "        if freq > max_freq:\n",
    "            max_freq = freq\n",
    "            most_frequent_char = char\n",
    "\n",
    "    return most_frequent_char\n",
    "\n",
    "input_string = \"abracadabra\"\n",
    "result = most_frequent_char(input_string)\n",
    "print(f\"The most frequent character in the string is '{result}'\")\n"
   ]
  },
  {
   "cell_type": "code",
   "execution_count": 8,
   "id": "f2d105ac",
   "metadata": {},
   "outputs": [
    {
     "name": "stdout",
     "output_type": "stream",
     "text": [
      "Are they anagrams? True\n"
     ]
    }
   ],
   "source": [
    "#8. Write a function that takes a string and returns True if it is an anagram of another string, False otherwise.\n",
    "\n",
    "def are_anagrams(str1, str2):\n",
    "    # Remove spaces and convert both strings to lowercase for accurate comparison\n",
    "    str1 = str1.replace(\" \", \"\").lower()\n",
    "    str2 = str2.replace(\" \", \"\").lower()\n",
    "\n",
    "    # Check if the sorted versions of the two strings are equal\n",
    "    return sorted(str1) == sorted(str2)\n",
    "\n",
    "string1 = \"listen\"\n",
    "string2 = \"silent\"\n",
    "\n",
    "result = are_anagrams(string1, string2)\n",
    "print(\"Are they anagrams?\", result)"
   ]
  },
  {
   "cell_type": "code",
   "execution_count": 9,
   "id": "89eaeb73",
   "metadata": {},
   "outputs": [
    {
     "name": "stdout",
     "output_type": "stream",
     "text": [
      "Number of words: 5\n"
     ]
    }
   ],
   "source": [
    "#9. Write a function that takes a string and returns the number of words in it.\n",
    "def count_words(input_string):\n",
    "    words = input_string.split()\n",
    "    return len(words)\n",
    "str = \"Guvi Geeks Network Private Limited\"\n",
    "word_count = count_words(str)\n",
    "print(\"Number of words:\", word_count)"
   ]
  }
 ],
 "metadata": {
  "kernelspec": {
   "display_name": "Python 3 (ipykernel)",
   "language": "python",
   "name": "python3"
  },
  "language_info": {
   "codemirror_mode": {
    "name": "ipython",
    "version": 3
   },
   "file_extension": ".py",
   "mimetype": "text/x-python",
   "name": "python",
   "nbconvert_exporter": "python",
   "pygments_lexer": "ipython3",
   "version": "3.11.4"
  }
 },
 "nbformat": 4,
 "nbformat_minor": 5
}
